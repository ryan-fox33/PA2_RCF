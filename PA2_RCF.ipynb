{
 "cells": [
  {
   "cell_type": "markdown",
   "id": "433cb96d",
   "metadata": {},
   "source": [
    "I. Append:\n",
    "The function append adds another variable at the end of your list. \n",
    "Example:"
   ]
  },
  {
   "cell_type": "code",
   "execution_count": 1,
   "id": "36682364",
   "metadata": {},
   "outputs": [
    {
     "data": {
      "text/plain": [
       "[1, 2, 3, 4]"
      ]
     },
     "execution_count": 1,
     "metadata": {},
     "output_type": "execute_result"
    }
   ],
   "source": [
    "numbers=[1,2,3,4]\n",
    "numbers"
   ]
  },
  {
   "cell_type": "code",
   "execution_count": 3,
   "id": "6e51f42b",
   "metadata": {},
   "outputs": [
    {
     "data": {
      "text/plain": [
       "[1, 2, 3, 4, 5]"
      ]
     },
     "execution_count": 3,
     "metadata": {},
     "output_type": "execute_result"
    }
   ],
   "source": [
    "numbers.append(5)\n",
    "numbers"
   ]
  },
  {
   "cell_type": "markdown",
   "id": "fd7c37fa",
   "metadata": {},
   "source": [
    "II. Extend:\n",
    "The fuction extend works by adding another list to the end of your current list.\n",
    "Example:"
   ]
  },
  {
   "cell_type": "code",
   "execution_count": 4,
   "id": "8cc6c38f",
   "metadata": {},
   "outputs": [
    {
     "name": "stdout",
     "output_type": "stream",
     "text": [
      "This is the extended list: ['Toyota', 'Subaru', 'Lexus', 'Bugatti', 'Nissan']\n"
     ]
    }
   ],
   "source": [
    "Cars=['Toyota', 'Subaru', 'Lexus']\n",
    "strCars=['Bugatti', 'Nissan']\n",
    "Cars.extend(strCars)\n",
    "print(\"This is the extended list:\", Cars)"
   ]
  },
  {
   "cell_type": "markdown",
   "id": "26a0027c",
   "metadata": {},
   "source": [
    "III. Insert\n",
    "The insert function works by placing a varible in your list where you tell it to. \n",
    "Example:"
   ]
  },
  {
   "cell_type": "code",
   "execution_count": 5,
   "id": "c77996cb",
   "metadata": {},
   "outputs": [
    {
     "data": {
      "text/plain": [
       "['Toyota', 'Subaru', 'Lexus', 'Bugatti', 'Nissan']"
      ]
     },
     "execution_count": 5,
     "metadata": {},
     "output_type": "execute_result"
    }
   ],
   "source": [
    "Cars"
   ]
  },
  {
   "cell_type": "code",
   "execution_count": 6,
   "id": "8f631436",
   "metadata": {},
   "outputs": [
    {
     "data": {
      "text/plain": [
       "['Tesla', 'Toyota', 'Subaru', 'Lexus', 'Bugatti', 'Nissan']"
      ]
     },
     "execution_count": 6,
     "metadata": {},
     "output_type": "execute_result"
    }
   ],
   "source": [
    "Cars.insert(0, 'Tesla')\n",
    "Cars"
   ]
  },
  {
   "cell_type": "markdown",
   "id": "b90e38d7",
   "metadata": {},
   "source": [
    "IV. Remove\n",
    "The function remove works by removing the variable you choose\n",
    "Example:"
   ]
  },
  {
   "cell_type": "code",
   "execution_count": 7,
   "id": "4608102a",
   "metadata": {},
   "outputs": [
    {
     "data": {
      "text/plain": [
       "['Tesla', 'Toyota', 'Subaru', 'Lexus', 'Bugatti', 'Nissan']"
      ]
     },
     "execution_count": 7,
     "metadata": {},
     "output_type": "execute_result"
    }
   ],
   "source": [
    "Cars"
   ]
  },
  {
   "cell_type": "code",
   "execution_count": 8,
   "id": "f71cafd6",
   "metadata": {},
   "outputs": [
    {
     "data": {
      "text/plain": [
       "['Toyota', 'Subaru', 'Lexus', 'Bugatti', 'Nissan']"
      ]
     },
     "execution_count": 8,
     "metadata": {},
     "output_type": "execute_result"
    }
   ],
   "source": [
    "Cars.remove('Tesla')\n",
    "Cars"
   ]
  },
  {
   "cell_type": "markdown",
   "id": "172ba0f9",
   "metadata": {},
   "source": [
    "V. Count\n",
    "The count function simply works by counting how many variables are in your list.\n",
    "Example"
   ]
  },
  {
   "cell_type": "code",
   "execution_count": 12,
   "id": "d763d6df",
   "metadata": {},
   "outputs": [
    {
     "data": {
      "text/plain": [
       "1"
      ]
     },
     "execution_count": 12,
     "metadata": {},
     "output_type": "execute_result"
    }
   ],
   "source": [
    "Cars.count('Lexus')"
   ]
  },
  {
   "cell_type": "markdown",
   "id": "01096d85",
   "metadata": {},
   "source": [
    "VI. Index\n",
    "Index is the place of your variable in your list\n",
    "Example:"
   ]
  },
  {
   "cell_type": "code",
   "execution_count": 13,
   "id": "70afb527",
   "metadata": {},
   "outputs": [
    {
     "data": {
      "text/plain": [
       "['Toyota', 'Subaru', 'Lexus', 'Bugatti', 'Nissan']"
      ]
     },
     "execution_count": 13,
     "metadata": {},
     "output_type": "execute_result"
    }
   ],
   "source": [
    "Cars"
   ]
  },
  {
   "cell_type": "code",
   "execution_count": null,
   "id": "fc447b82",
   "metadata": {},
   "outputs": [],
   "source": [
    "#Lexus is the second index"
   ]
  },
  {
   "cell_type": "markdown",
   "id": "5d6c1d19",
   "metadata": {},
   "source": [
    "VII. Pop\n",
    "The pop function works by removing the last or stated variable from your list \n",
    "Example:"
   ]
  },
  {
   "cell_type": "code",
   "execution_count": 14,
   "id": "f55a1048",
   "metadata": {},
   "outputs": [
    {
     "data": {
      "text/plain": [
       "['Toyota', 'Subaru', 'Lexus', 'Bugatti']"
      ]
     },
     "execution_count": 14,
     "metadata": {},
     "output_type": "execute_result"
    }
   ],
   "source": [
    "Cars.pop()\n",
    "Cars"
   ]
  },
  {
   "cell_type": "markdown",
   "id": "6de22cb2",
   "metadata": {},
   "source": [
    "VIII. Sorted \n",
    "Sorted works by sorting your list in alphabetical or numerical order"
   ]
  },
  {
   "cell_type": "code",
   "execution_count": 17,
   "id": "6c742174",
   "metadata": {},
   "outputs": [
    {
     "data": {
      "text/plain": [
       "['Bugatti', 'Lexus', 'Subaru', 'Toyota']"
      ]
     },
     "execution_count": 17,
     "metadata": {},
     "output_type": "execute_result"
    }
   ],
   "source": [
    "Cars.sort()\n",
    "Cars"
   ]
  },
  {
   "cell_type": "markdown",
   "id": "68cff4cf",
   "metadata": {},
   "source": [
    "IX. Copy \n",
    "Copy works by copying your function\n",
    "Example:"
   ]
  },
  {
   "cell_type": "code",
   "execution_count": 18,
   "id": "403a3425",
   "metadata": {},
   "outputs": [
    {
     "name": "stdout",
     "output_type": "stream",
     "text": [
      "['pizza', 'steak', 'Mac and Cheese', 'Chips', 'French Fries']\n"
     ]
    }
   ],
   "source": [
    "food_list=['pizza', 'steak', 'Mac and Cheese', 'Chips', 'French Fries']\n",
    "my_friends_food_list=food_list[:]\n",
    "print(my_friends_food_list)"
   ]
  },
  {
   "cell_type": "markdown",
   "id": "065b9dc5",
   "metadata": {},
   "source": [
    "X. Clear works by removing all variables from list"
   ]
  },
  {
   "cell_type": "code",
   "execution_count": 20,
   "id": "efabf880",
   "metadata": {},
   "outputs": [
    {
     "data": {
      "text/plain": [
       "[]"
      ]
     },
     "execution_count": 20,
     "metadata": {},
     "output_type": "execute_result"
    }
   ],
   "source": [
    "Cars.clear()\n",
    "Cars"
   ]
  },
  {
   "cell_type": "markdown",
   "id": "38a46d4c",
   "metadata": {},
   "source": [
    "XI. List works by creating a list of variables "
   ]
  },
  {
   "cell_type": "code",
   "execution_count": 21,
   "id": "0ed81526",
   "metadata": {},
   "outputs": [],
   "source": [
    "Cars_list=('Toyota', 'Lexus', 'Chevy')"
   ]
  },
  {
   "cell_type": "markdown",
   "id": "bb5d2440",
   "metadata": {},
   "source": [
    "len works by measuring the length of your tuple "
   ]
  },
  {
   "cell_type": "code",
   "execution_count": 22,
   "id": "baa110c8",
   "metadata": {},
   "outputs": [
    {
     "data": {
      "text/plain": [
       "3"
      ]
     },
     "execution_count": 22,
     "metadata": {},
     "output_type": "execute_result"
    }
   ],
   "source": [
    "len(Cars_list)"
   ]
  },
  {
   "cell_type": "markdown",
   "id": "e7747bbf",
   "metadata": {},
   "source": [
    "The max function provides the highest value "
   ]
  },
  {
   "cell_type": "code",
   "execution_count": 23,
   "id": "549df951",
   "metadata": {},
   "outputs": [
    {
     "data": {
      "text/plain": [
       "'Toyota'"
      ]
     },
     "execution_count": 23,
     "metadata": {},
     "output_type": "execute_result"
    }
   ],
   "source": [
    "max(Cars_list)"
   ]
  },
  {
   "cell_type": "markdown",
   "id": "7a2d645e",
   "metadata": {},
   "source": [
    "Minimum provides you with the lowest value in your list"
   ]
  },
  {
   "cell_type": "code",
   "execution_count": 24,
   "id": "3c377828",
   "metadata": {},
   "outputs": [
    {
     "data": {
      "text/plain": [
       "'Chevy'"
      ]
     },
     "execution_count": 24,
     "metadata": {},
     "output_type": "execute_result"
    }
   ],
   "source": [
    "min(Cars_list)"
   ]
  }
 ],
 "metadata": {
  "kernelspec": {
   "display_name": "Python 3 (ipykernel)",
   "language": "python",
   "name": "python3"
  },
  "language_info": {
   "codemirror_mode": {
    "name": "ipython",
    "version": 3
   },
   "file_extension": ".py",
   "mimetype": "text/x-python",
   "name": "python",
   "nbconvert_exporter": "python",
   "pygments_lexer": "ipython3",
   "version": "3.9.12"
  }
 },
 "nbformat": 4,
 "nbformat_minor": 5
}
